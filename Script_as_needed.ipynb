{
 "cells": [
  {
   "cell_type": "code",
   "id": "initial_id",
   "metadata": {
    "collapsed": true,
    "ExecuteTime": {
     "end_time": "2025-01-10T05:26:25.947629Z",
     "start_time": "2025-01-10T05:26:25.934482Z"
    }
   },
   "source": [
    "from PIL import Image\n",
    "\n",
    "# Open the JPEG file\n",
    "jpeg_image = Image.open('Assets/img/Display_Pic.jpeg')\n",
    "\n",
    "# Resize the image\n",
    "new_size = (60, 80)  # Width, Height\n",
    "resized_image = jpeg_image.resize(new_size)\n",
    "\n",
    "# Save the resized image as a PNG file\n",
    "resized_image.save('Assets/img/Display_Pic.png', 'PNG')"
   ],
   "outputs": [],
   "execution_count": 2
  }
 ],
 "metadata": {
  "kernelspec": {
   "display_name": "Python 3",
   "language": "python",
   "name": "python3"
  },
  "language_info": {
   "codemirror_mode": {
    "name": "ipython",
    "version": 2
   },
   "file_extension": ".py",
   "mimetype": "text/x-python",
   "name": "python",
   "nbconvert_exporter": "python",
   "pygments_lexer": "ipython2",
   "version": "2.7.6"
  }
 },
 "nbformat": 4,
 "nbformat_minor": 5
}
