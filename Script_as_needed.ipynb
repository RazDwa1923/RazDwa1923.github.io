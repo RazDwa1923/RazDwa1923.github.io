{
 "cells": [
  {
   "cell_type": "code",
   "id": "initial_id",
   "metadata": {
    "collapsed": true,
    "ExecuteTime": {
     "end_time": "2025-01-10T05:31:41.551491Z",
     "start_time": "2025-01-10T05:31:41.394927Z"
    }
   },
   "source": [
    "from PIL import Image\n",
    "\n",
    "# Open the JPEG file\n",
    "jpeg_image = Image.open('Assets/img/Display_Pic.jpeg')\n",
    "\n",
    "# Define the percentage to resize\n",
    "percentage = 50  # Resize to 50% of the original size\n",
    "\n",
    "# Calculate the new size\n",
    "new_size = (int(jpeg_image.width * percentage / 100), int(jpeg_image.height * percentage / 100))\n",
    "\n",
    "# Resize the image\n",
    "resized_image = jpeg_image.resize(new_size)\n",
    "\n",
    "# Save the resized image as a PNG file\n",
    "resized_image.save('Assets/img/Display_Pic.png', 'PNG')"
   ],
   "outputs": [],
   "execution_count": 3
  }
 ],
 "metadata": {
  "kernelspec": {
   "display_name": "Python 3",
   "language": "python",
   "name": "python3"
  },
  "language_info": {
   "codemirror_mode": {
    "name": "ipython",
    "version": 2
   },
   "file_extension": ".py",
   "mimetype": "text/x-python",
   "name": "python",
   "nbconvert_exporter": "python",
   "pygments_lexer": "ipython2",
   "version": "2.7.6"
  }
 },
 "nbformat": 4,
 "nbformat_minor": 5
}
